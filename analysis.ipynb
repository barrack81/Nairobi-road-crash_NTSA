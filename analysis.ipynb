{
 "cells": [
  {
   "cell_type": "code",
   "execution_count": 1,
   "metadata": {},
   "outputs": [],
   "source": [
    "import pandas as pd"
   ]
  },
  {
   "cell_type": "code",
   "execution_count": 2,
   "metadata": {},
   "outputs": [],
   "source": [
    "import geopandas as gpd"
   ]
  },
  {
   "cell_type": "code",
   "execution_count": 3,
   "metadata": {},
   "outputs": [],
   "source": [
    "import folium"
   ]
  },
  {
   "cell_type": "code",
   "execution_count": 4,
   "metadata": {},
   "outputs": [],
   "source": [
    "import plotly.express as px"
   ]
  },
  {
   "cell_type": "code",
   "execution_count": 5,
   "metadata": {},
   "outputs": [],
   "source": [
    "import matplotlib.pyplot as plt"
   ]
  },
  {
   "cell_type": "code",
   "execution_count": 6,
   "metadata": {},
   "outputs": [],
   "source": [
    "#load the excell file to pandas dataframe"
   ]
  },
  {
   "cell_type": "code",
   "execution_count": 7,
   "metadata": {},
   "outputs": [],
   "source": [
    "file_path = \"cleaned.xlsx\""
   ]
  },
  {
   "cell_type": "code",
   "execution_count": 8,
   "metadata": {},
   "outputs": [
    {
     "name": "stdout",
     "output_type": "stream",
     "text": [
      "file loaded successfully!\n",
      "\n",
      "Preview of the data:\n"
     ]
    },
    {
     "data": {
      "application/vnd.microsoft.datawrangler.viewer.v0+json": {
       "columns": [
        {
         "name": "index",
         "rawType": "int64",
         "type": "integer"
        },
        {
         "name": "Date Entered\n(Enter the date the location was geocoded)",
         "rawType": "datetime64[ns]",
         "type": "datetime"
        },
        {
         "name": "Base/Sub-base",
         "rawType": "object",
         "type": "string"
        },
        {
         "name": "County",
         "rawType": "object",
         "type": "string"
        },
        {
         "name": "Road",
         "rawType": "object",
         "type": "string"
        },
        {
         "name": "Place",
         "rawType": "object",
         "type": "string"
        },
        {
         "name": "Crash Location\nCan a crash location be determined from the police data? \n* Yes\n* No",
         "rawType": "object",
         "type": "string"
        },
        {
         "name": "Location Type\nWhat does the location represent?\n* Point (~ within 300 meters)\n* Area (few km)\n",
         "rawType": "object",
         "type": "unknown"
        },
        {
         "name": "Confident? \nAre you confident that the coordinates or road IDs you choose correctly identify the crash location?\n* Yes: The crash location was easy to find\n* No: The crash location was more difficult to find and there's a chance that the location I put may not be correct.\n\nNOTE 1: If you're VERY not confident in the crash location, do not put a location\n\nNOTE 2: While this colum appears before the location, fill this column out AFTER entering the location\n",
         "rawType": "object",
         "type": "unknown"
        },
        {
         "name": "Latitude",
         "rawType": "float64",
         "type": "float"
        },
        {
         "name": "Longitude",
         "rawType": "float64",
         "type": "float"
        },
        {
         "name": "Road Distance (kilometers)",
         "rawType": "object",
         "type": "unknown"
        },
        {
         "name": "Comments",
         "rawType": "object",
         "type": "unknown"
        },
        {
         "name": "nan",
         "rawType": "bool",
         "type": "boolean"
        },
        {
         "name": "nan.1",
         "rawType": "bool",
         "type": "boolean"
        },
        {
         "name": "nan.2",
         "rawType": "bool",
         "type": "boolean"
        },
        {
         "name": "nan.3",
         "rawType": "bool",
         "type": "boolean"
        },
        {
         "name": "nan.4",
         "rawType": "float64",
         "type": "float"
        },
        {
         "name": "nan.5",
         "rawType": "float64",
         "type": "float"
        },
        {
         "name": "nan.6",
         "rawType": "float64",
         "type": "float"
        },
        {
         "name": "all_check",
         "rawType": "float64",
         "type": "float"
        },
        {
         "name": "check_0_75",
         "rawType": "float64",
         "type": "float"
        },
        {
         "name": "check_0_50",
         "rawType": "float64",
         "type": "float"
        },
        {
         "name": "check_0_25",
         "rawType": "float64",
         "type": "float"
        },
        {
         "name": "check_0_10",
         "rawType": "float64",
         "type": "float"
        },
        {
         "name": "check_0_05",
         "rawType": "float64",
         "type": "float"
        }
       ],
       "conversionMethod": "pd.DataFrame",
       "ref": "5ccbc09a-53d3-4640-b75d-6bd2cbb527fb",
       "rows": [
        [
         "0",
         "2025-02-02 00:00:00",
         "makongeni",
         "nairobi",
         "along lunga lunga road",
         "NEAR LUNGA LUNGA STAGE",
         "Yes",
         "Point",
         "Yes",
         "-1.30887119912018",
         "36.8623469429589",
         null,
         null,
         "False",
         "False",
         "False",
         "False",
         "0.0",
         "0.0",
         "0.0",
         null,
         null,
         null,
         null,
         null,
         null
        ],
        [
         "1",
         "2025-02-02 00:00:00",
         "ruaraka",
         "nairobi",
         "along thika super highway",
         "AT THE ALSOPS UNDER PASS STAGE",
         "Yes",
         "Point",
         "Yes",
         "-1.24496724165401",
         "36.8671706283507",
         null,
         null,
         "False",
         "False",
         "False",
         "False",
         "0.0",
         "0.0",
         "0.0",
         null,
         null,
         null,
         null,
         null,
         null
        ],
        [
         "2",
         "2025-02-02 00:00:00",
         "buruburu",
         "nairobi",
         "outering road",
         "STELL AREA NEXT TO FOOT BRIDGE",
         "Yes",
         "Point",
         "Yes",
         "-1.26561716938969",
         "36.8798402802054",
         null,
         "it's steel area not Stell",
         "False",
         "False",
         "False",
         "False",
         "0.0",
         "0.0",
         "0.0",
         "1.0",
         "0.0",
         "0.0",
         "0.0",
         "0.0",
         "0.0"
        ],
        [
         "3",
         "2025-02-02 00:00:00",
         "kamkunji",
         "nairobi",
         "ladhies road",
         "NEAR NASIKO",
         "Yes",
         "Point",
         "Yes",
         "-1.28734674528618",
         "36.8371678129915",
         null,
         "it's nacico cot nasiko",
         "False",
         "False",
         "False",
         "False",
         "0.0",
         "0.0",
         "0.0",
         null,
         null,
         null,
         null,
         null,
         null
        ],
        [
         "4",
         "2025-02-02 00:00:00",
         "kabete",
         "nairobi",
         "muhuri rd",
         "NEAR KIHURO MARKET",
         "No",
         null,
         null,
         null,
         null,
         null,
         "there's no kihuro market in muhuri rd",
         "False",
         "False",
         "False",
         "False",
         "0.0",
         "0.0",
         "0.0",
         null,
         null,
         null,
         null,
         null,
         null
        ]
       ],
       "shape": {
        "columns": 25,
        "rows": 5
       }
      },
      "text/html": [
       "<div>\n",
       "<style scoped>\n",
       "    .dataframe tbody tr th:only-of-type {\n",
       "        vertical-align: middle;\n",
       "    }\n",
       "\n",
       "    .dataframe tbody tr th {\n",
       "        vertical-align: top;\n",
       "    }\n",
       "\n",
       "    .dataframe thead th {\n",
       "        text-align: right;\n",
       "    }\n",
       "</style>\n",
       "<table border=\"1\" class=\"dataframe\">\n",
       "  <thead>\n",
       "    <tr style=\"text-align: right;\">\n",
       "      <th></th>\n",
       "      <th>Date Entered\\n(Enter the date the location was geocoded)</th>\n",
       "      <th>Base/Sub-base</th>\n",
       "      <th>County</th>\n",
       "      <th>Road</th>\n",
       "      <th>Place</th>\n",
       "      <th>Crash Location\\nCan a crash location be determined from the police data? \\n* Yes\\n* No</th>\n",
       "      <th>Location Type\\nWhat does the location represent?\\n* Point (~ within 300 meters)\\n* Area (few km)\\n</th>\n",
       "      <th>Confident? \\nAre you confident that the coordinates or road IDs you choose correctly identify the crash location?\\n* Yes: The crash location was easy to find\\n* No: The crash location was more difficult to find and there's a chance that the location I put may not be correct.\\n\\nNOTE 1: If you're VERY not confident in the crash location, do not put a location\\n\\nNOTE 2: While this colum appears before the location, fill this column out AFTER entering the location\\n</th>\n",
       "      <th>Latitude</th>\n",
       "      <th>Longitude</th>\n",
       "      <th>...</th>\n",
       "      <th>nan.3</th>\n",
       "      <th>nan.4</th>\n",
       "      <th>nan.5</th>\n",
       "      <th>nan.6</th>\n",
       "      <th>all_check</th>\n",
       "      <th>check_0_75</th>\n",
       "      <th>check_0_50</th>\n",
       "      <th>check_0_25</th>\n",
       "      <th>check_0_10</th>\n",
       "      <th>check_0_05</th>\n",
       "    </tr>\n",
       "  </thead>\n",
       "  <tbody>\n",
       "    <tr>\n",
       "      <th>0</th>\n",
       "      <td>2025-02-02</td>\n",
       "      <td>makongeni</td>\n",
       "      <td>nairobi</td>\n",
       "      <td>along lunga lunga road</td>\n",
       "      <td>NEAR LUNGA LUNGA STAGE</td>\n",
       "      <td>Yes</td>\n",
       "      <td>Point</td>\n",
       "      <td>Yes</td>\n",
       "      <td>-1.308871</td>\n",
       "      <td>36.862347</td>\n",
       "      <td>...</td>\n",
       "      <td>False</td>\n",
       "      <td>0.0</td>\n",
       "      <td>0.0</td>\n",
       "      <td>0.0</td>\n",
       "      <td>NaN</td>\n",
       "      <td>NaN</td>\n",
       "      <td>NaN</td>\n",
       "      <td>NaN</td>\n",
       "      <td>NaN</td>\n",
       "      <td>NaN</td>\n",
       "    </tr>\n",
       "    <tr>\n",
       "      <th>1</th>\n",
       "      <td>2025-02-02</td>\n",
       "      <td>ruaraka</td>\n",
       "      <td>nairobi</td>\n",
       "      <td>along thika super highway</td>\n",
       "      <td>AT THE ALSOPS UNDER PASS STAGE</td>\n",
       "      <td>Yes</td>\n",
       "      <td>Point</td>\n",
       "      <td>Yes</td>\n",
       "      <td>-1.244967</td>\n",
       "      <td>36.867171</td>\n",
       "      <td>...</td>\n",
       "      <td>False</td>\n",
       "      <td>0.0</td>\n",
       "      <td>0.0</td>\n",
       "      <td>0.0</td>\n",
       "      <td>NaN</td>\n",
       "      <td>NaN</td>\n",
       "      <td>NaN</td>\n",
       "      <td>NaN</td>\n",
       "      <td>NaN</td>\n",
       "      <td>NaN</td>\n",
       "    </tr>\n",
       "    <tr>\n",
       "      <th>2</th>\n",
       "      <td>2025-02-02</td>\n",
       "      <td>buruburu</td>\n",
       "      <td>nairobi</td>\n",
       "      <td>outering road</td>\n",
       "      <td>STELL AREA NEXT TO FOOT BRIDGE</td>\n",
       "      <td>Yes</td>\n",
       "      <td>Point</td>\n",
       "      <td>Yes</td>\n",
       "      <td>-1.265617</td>\n",
       "      <td>36.879840</td>\n",
       "      <td>...</td>\n",
       "      <td>False</td>\n",
       "      <td>0.0</td>\n",
       "      <td>0.0</td>\n",
       "      <td>0.0</td>\n",
       "      <td>1.0</td>\n",
       "      <td>0.0</td>\n",
       "      <td>0.0</td>\n",
       "      <td>0.0</td>\n",
       "      <td>0.0</td>\n",
       "      <td>0.0</td>\n",
       "    </tr>\n",
       "    <tr>\n",
       "      <th>3</th>\n",
       "      <td>2025-02-02</td>\n",
       "      <td>kamkunji</td>\n",
       "      <td>nairobi</td>\n",
       "      <td>ladhies road</td>\n",
       "      <td>NEAR NASIKO</td>\n",
       "      <td>Yes</td>\n",
       "      <td>Point</td>\n",
       "      <td>Yes</td>\n",
       "      <td>-1.287347</td>\n",
       "      <td>36.837168</td>\n",
       "      <td>...</td>\n",
       "      <td>False</td>\n",
       "      <td>0.0</td>\n",
       "      <td>0.0</td>\n",
       "      <td>0.0</td>\n",
       "      <td>NaN</td>\n",
       "      <td>NaN</td>\n",
       "      <td>NaN</td>\n",
       "      <td>NaN</td>\n",
       "      <td>NaN</td>\n",
       "      <td>NaN</td>\n",
       "    </tr>\n",
       "    <tr>\n",
       "      <th>4</th>\n",
       "      <td>2025-02-02</td>\n",
       "      <td>kabete</td>\n",
       "      <td>nairobi</td>\n",
       "      <td>muhuri rd</td>\n",
       "      <td>NEAR KIHURO MARKET</td>\n",
       "      <td>No</td>\n",
       "      <td>NaN</td>\n",
       "      <td>NaN</td>\n",
       "      <td>NaN</td>\n",
       "      <td>NaN</td>\n",
       "      <td>...</td>\n",
       "      <td>False</td>\n",
       "      <td>0.0</td>\n",
       "      <td>0.0</td>\n",
       "      <td>0.0</td>\n",
       "      <td>NaN</td>\n",
       "      <td>NaN</td>\n",
       "      <td>NaN</td>\n",
       "      <td>NaN</td>\n",
       "      <td>NaN</td>\n",
       "      <td>NaN</td>\n",
       "    </tr>\n",
       "  </tbody>\n",
       "</table>\n",
       "<p>5 rows × 25 columns</p>\n",
       "</div>"
      ],
      "text/plain": [
       "  Date Entered\\n(Enter the date the location was geocoded) Base/Sub-base  \\\n",
       "0                                         2025-02-02           makongeni   \n",
       "1                                         2025-02-02             ruaraka   \n",
       "2                                         2025-02-02            buruburu   \n",
       "3                                         2025-02-02            kamkunji   \n",
       "4                                         2025-02-02              kabete   \n",
       "\n",
       "    County                       Road                           Place  \\\n",
       "0  nairobi     along lunga lunga road          NEAR LUNGA LUNGA STAGE   \n",
       "1  nairobi  along thika super highway  AT THE ALSOPS UNDER PASS STAGE   \n",
       "2  nairobi              outering road  STELL AREA NEXT TO FOOT BRIDGE   \n",
       "3  nairobi               ladhies road                     NEAR NASIKO   \n",
       "4  nairobi                  muhuri rd              NEAR KIHURO MARKET   \n",
       "\n",
       "  Crash Location\\nCan a crash location be determined from the police data? \\n* Yes\\n* No  \\\n",
       "0                                                Yes                                       \n",
       "1                                                Yes                                       \n",
       "2                                                Yes                                       \n",
       "3                                                Yes                                       \n",
       "4                                                 No                                       \n",
       "\n",
       "  Location Type\\nWhat does the location represent?\\n* Point (~ within 300 meters)\\n* Area (few km)\\n  \\\n",
       "0                                              Point                                                   \n",
       "1                                              Point                                                   \n",
       "2                                              Point                                                   \n",
       "3                                              Point                                                   \n",
       "4                                                NaN                                                   \n",
       "\n",
       "  Confident? \\nAre you confident that the coordinates or road IDs you choose correctly identify the crash location?\\n* Yes: The crash location was easy to find\\n* No: The crash location was more difficult to find and there's a chance that the location I put may not be correct.\\n\\nNOTE 1: If you're VERY not confident in the crash location, do not put a location\\n\\nNOTE 2: While this colum appears before the location, fill this column out AFTER entering the location\\n  \\\n",
       "0                                                Yes                                                                                                                                                                                                                                                                                                                                                                                                                                     \n",
       "1                                                Yes                                                                                                                                                                                                                                                                                                                                                                                                                                     \n",
       "2                                                Yes                                                                                                                                                                                                                                                                                                                                                                                                                                     \n",
       "3                                                Yes                                                                                                                                                                                                                                                                                                                                                                                                                                     \n",
       "4                                                NaN                                                                                                                                                                                                                                                                                                                                                                                                                                     \n",
       "\n",
       "   Latitude  Longitude  ...  nan.3 nan.4  nan.5  nan.6  all_check  check_0_75  \\\n",
       "0 -1.308871  36.862347  ...  False   0.0    0.0    0.0        NaN         NaN   \n",
       "1 -1.244967  36.867171  ...  False   0.0    0.0    0.0        NaN         NaN   \n",
       "2 -1.265617  36.879840  ...  False   0.0    0.0    0.0        1.0         0.0   \n",
       "3 -1.287347  36.837168  ...  False   0.0    0.0    0.0        NaN         NaN   \n",
       "4       NaN        NaN  ...  False   0.0    0.0    0.0        NaN         NaN   \n",
       "\n",
       "   check_0_50  check_0_25  check_0_10  check_0_05  \n",
       "0         NaN         NaN         NaN         NaN  \n",
       "1         NaN         NaN         NaN         NaN  \n",
       "2         0.0         0.0         0.0         0.0  \n",
       "3         NaN         NaN         NaN         NaN  \n",
       "4         NaN         NaN         NaN         NaN  \n",
       "\n",
       "[5 rows x 25 columns]"
      ]
     },
     "metadata": {},
     "output_type": "display_data"
    }
   ],
   "source": [
    "try:\n",
    "    data = pd.read_excel(file_path)\n",
    "    print(\"file loaded successfully!\")\n",
    "    print(\"\\nPreview of the data:\")\n",
    "    display(data.head())\n",
    "except FileExistsError:\n",
    "    print(\"File does not exist\")\n",
    "except Exception as e:\n",
    "    print(f\"An erroroccured while previewing{e}\")"
   ]
  },
  {
   "cell_type": "code",
   "execution_count": 9,
   "metadata": {},
   "outputs": [
    {
     "name": "stdout",
     "output_type": "stream",
     "text": [
      "column names after loading\n",
      "Index([                                                                                                                                                                                                                                                                                                                                                                                                                            'Date Entered\\n(Enter the date the location was geocoded)',\n",
      "                                                                                                                                                                                                                                                                                                                                                                                                                                                                              'Base/Sub-base',\n",
      "                                                                                                                                                                                                                                                                                                                                                                                                                                                                                     'County',\n",
      "                                                                                                                                                                                                                                                                                                                                                                                                                                                                                       'Road',\n",
      "                                                                                                                                                                                                                                                                                                                                                                                                                                                                                      'Place',\n",
      "                                                                                                                                                                                                                                                                                                                                                                                                     'Crash Location\\nCan a crash location be determined from the police data? \\n* Yes\\n* No',\n",
      "                                                                                                                                                                                                                                                                                                                                                                                         'Location Type\\nWhat does the location represent?\\n* Point (~ within 300 meters)\\n* Area (few km)\\n',\n",
      "       'Confident? \\nAre you confident that the coordinates or road IDs you choose correctly identify the crash location?\\n* Yes: The crash location was easy to find\\n* No: The crash location was more difficult to find and there's a chance that the location I put may not be correct.\\n\\nNOTE 1: If you're VERY not confident in the crash location, do not put a location\\n\\nNOTE 2: While this colum appears before the location, fill this column out AFTER entering the location\\n',\n",
      "                                                                                                                                                                                                                                                                                                                                                                                                                                                                                   'Latitude',\n",
      "                                                                                                                                                                                                                                                                                                                                                                                                                                                                                  'Longitude',\n",
      "                                                                                                                                                                                                                                                                                                                                                                                                                                                                 'Road Distance (kilometers)',\n",
      "                                                                                                                                                                                                                                                                                                                                                                                                                                                                                   'Comments',\n",
      "                                                                                                                                                                                                                                                                                                                                                                                                                                                                                          nan,\n",
      "                                                                                                                                                                                                                                                                                                                                                                                                                                                                                      'nan.1',\n",
      "                                                                                                                                                                                                                                                                                                                                                                                                                                                                                      'nan.2',\n",
      "                                                                                                                                                                                                                                                                                                                                                                                                                                                                                      'nan.3',\n",
      "                                                                                                                                                                                                                                                                                                                                                                                                                                                                                      'nan.4',\n",
      "                                                                                                                                                                                                                                                                                                                                                                                                                                                                                      'nan.5',\n",
      "                                                                                                                                                                                                                                                                                                                                                                                                                                                                                      'nan.6',\n",
      "                                                                                                                                                                                                                                                                                                                                                                                                                                                                                  'all_check',\n",
      "                                                                                                                                                                                                                                                                                                                                                                                                                                                                                 'check_0_75',\n",
      "                                                                                                                                                                                                                                                                                                                                                                                                                                                                                 'check_0_50',\n",
      "                                                                                                                                                                                                                                                                                                                                                                                                                                                                                 'check_0_25',\n",
      "                                                                                                                                                                                                                                                                                                                                                                                                                                                                                 'check_0_10',\n",
      "                                                                                                                                                                                                                                                                                                                                                                                                                                                                                 'check_0_05'],\n",
      "      dtype='object')\n"
     ]
    }
   ],
   "source": [
    "print(\"column names after loading\")\n",
    "print(data.columns)"
   ]
  },
  {
   "cell_type": "code",
   "execution_count": null,
   "metadata": {},
   "outputs": [],
   "source": []
  },
  {
   "cell_type": "code",
   "execution_count": 10,
   "metadata": {},
   "outputs": [
    {
     "name": "stdout",
     "output_type": "stream",
     "text": [
      "summary of missing values:\n"
     ]
    },
    {
     "data": {
      "text/plain": [
       "Date Entered\\n(Enter the date the location was geocoded)                                                                                                                                                                                                                                                                                                                                                                                                                                1090\n",
       "Base/Sub-base                                                                                                                                                                                                                                                                                                                                                                                                                                                                           1092\n",
       "County                                                                                                                                                                                                                                                                                                                                                                                                                                                                                  1090\n",
       "Road                                                                                                                                                                                                                                                                                                                                                                                                                                                                                    1101\n",
       "Place                                                                                                                                                                                                                                                                                                                                                                                                                                                                                   1124\n",
       "Crash Location\\nCan a crash location be determined from the police data? \\n* Yes\\n* No                                                                                                                                                                                                                                                                                                                                                                                                  1090\n",
       "Location Type\\nWhat does the location represent?\\n* Point (~ within 300 meters)\\n* Area (few km)\\n                                                                                                                                                                                                                                                                                                                                                                                      1214\n",
       "Confident? \\nAre you confident that the coordinates or road IDs you choose correctly identify the crash location?\\n* Yes: The crash location was easy to find\\n* No: The crash location was more difficult to find and there's a chance that the location I put may not be correct.\\n\\nNOTE 1: If you're VERY not confident in the crash location, do not put a location\\n\\nNOTE 2: While this colum appears before the location, fill this column out AFTER entering the location\\n    1148\n",
       "Latitude                                                                                                                                                                                                                                                                                                                                                                                                                                                                                1230\n",
       "Longitude                                                                                                                                                                                                                                                                                                                                                                                                                                                                               1230\n",
       "Road Distance (kilometers)                                                                                                                                                                                                                                                                                                                                                                                                                                                              1626\n",
       "Comments                                                                                                                                                                                                                                                                                                                                                                                                                                                                                1619\n",
       "nan.4                                                                                                                                                                                                                                                                                                                                                                                                                                                                                      3\n",
       "nan.5                                                                                                                                                                                                                                                                                                                                                                                                                                                                                      2\n",
       "nan.6                                                                                                                                                                                                                                                                                                                                                                                                                                                                                      1\n",
       "all_check                                                                                                                                                                                                                                                                                                                                                                                                                                                                               1422\n",
       "check_0_75                                                                                                                                                                                                                                                                                                                                                                                                                                                                              1422\n",
       "check_0_50                                                                                                                                                                                                                                                                                                                                                                                                                                                                              1422\n",
       "check_0_25                                                                                                                                                                                                                                                                                                                                                                                                                                                                              1422\n",
       "check_0_10                                                                                                                                                                                                                                                                                                                                                                                                                                                                              1422\n",
       "check_0_05                                                                                                                                                                                                                                                                                                                                                                                                                                                                              1422\n",
       "dtype: int64"
      ]
     },
     "metadata": {},
     "output_type": "display_data"
    }
   ],
   "source": [
    "if data is not None:\n",
    "    missing_summary = data.isnull().sum()\n",
    "    print(\"summary of missing values:\")\n",
    "    display(missing_summary[missing_summary > 0])"
   ]
  },
  {
   "cell_type": "code",
   "execution_count": 11,
   "metadata": {},
   "outputs": [
    {
     "name": "stdout",
     "output_type": "stream",
     "text": [
      "column Names: \n",
      "Index([                                                                                                                                                                                                                                                                                                                                                                                                                            'Date Entered\\n(Enter the date the location was geocoded)',\n",
      "                                                                                                                                                                                                                                                                                                                                                                                                                                                                              'Base/Sub-base',\n",
      "                                                                                                                                                                                                                                                                                                                                                                                                                                                                                     'County',\n",
      "                                                                                                                                                                                                                                                                                                                                                                                                                                                                                       'Road',\n",
      "                                                                                                                                                                                                                                                                                                                                                                                                                                                                                      'Place',\n",
      "                                                                                                                                                                                                                                                                                                                                                                                                     'Crash Location\\nCan a crash location be determined from the police data? \\n* Yes\\n* No',\n",
      "                                                                                                                                                                                                                                                                                                                                                                                         'Location Type\\nWhat does the location represent?\\n* Point (~ within 300 meters)\\n* Area (few km)\\n',\n",
      "       'Confident? \\nAre you confident that the coordinates or road IDs you choose correctly identify the crash location?\\n* Yes: The crash location was easy to find\\n* No: The crash location was more difficult to find and there's a chance that the location I put may not be correct.\\n\\nNOTE 1: If you're VERY not confident in the crash location, do not put a location\\n\\nNOTE 2: While this colum appears before the location, fill this column out AFTER entering the location\\n',\n",
      "                                                                                                                                                                                                                                                                                                                                                                                                                                                                                   'Latitude',\n",
      "                                                                                                                                                                                                                                                                                                                                                                                                                                                                                  'Longitude',\n",
      "                                                                                                                                                                                                                                                                                                                                                                                                                                                                 'Road Distance (kilometers)',\n",
      "                                                                                                                                                                                                                                                                                                                                                                                                                                                                                   'Comments',\n",
      "                                                                                                                                                                                                                                                                                                                                                                                                                                                                                          nan,\n",
      "                                                                                                                                                                                                                                                                                                                                                                                                                                                                                      'nan.1',\n",
      "                                                                                                                                                                                                                                                                                                                                                                                                                                                                                      'nan.2',\n",
      "                                                                                                                                                                                                                                                                                                                                                                                                                                                                                      'nan.3',\n",
      "                                                                                                                                                                                                                                                                                                                                                                                                                                                                                      'nan.4',\n",
      "                                                                                                                                                                                                                                                                                                                                                                                                                                                                                      'nan.5',\n",
      "                                                                                                                                                                                                                                                                                                                                                                                                                                                                                      'nan.6',\n",
      "                                                                                                                                                                                                                                                                                                                                                                                                                                                                                  'all_check',\n",
      "                                                                                                                                                                                                                                                                                                                                                                                                                                                                                 'check_0_75',\n",
      "                                                                                                                                                                                                                                                                                                                                                                                                                                                                                 'check_0_50',\n",
      "                                                                                                                                                                                                                                                                                                                                                                                                                                                                                 'check_0_25',\n",
      "                                                                                                                                                                                                                                                                                                                                                                                                                                                                                 'check_0_10',\n",
      "                                                                                                                                                                                                                                                                                                                                                                                                                                                                                 'check_0_05'],\n",
      "      dtype='object')\n",
      "\n",
      "Data Types:\n",
      "Date Entered\\n(Enter the date the location was geocoded)                                                                                                                                                                                                                                                                                                                                                                                                                                datetime64[ns]\n",
      "Base/Sub-base                                                                                                                                                                                                                                                                                                                                                                                                                                                                                   object\n",
      "County                                                                                                                                                                                                                                                                                                                                                                                                                                                                                          object\n",
      "Road                                                                                                                                                                                                                                                                                                                                                                                                                                                                                            object\n",
      "Place                                                                                                                                                                                                                                                                                                                                                                                                                                                                                           object\n",
      "Crash Location\\nCan a crash location be determined from the police data? \\n* Yes\\n* No                                                                                                                                                                                                                                                                                                                                                                                                          object\n",
      "Location Type\\nWhat does the location represent?\\n* Point (~ within 300 meters)\\n* Area (few km)\\n                                                                                                                                                                                                                                                                                                                                                                                              object\n",
      "Confident? \\nAre you confident that the coordinates or road IDs you choose correctly identify the crash location?\\n* Yes: The crash location was easy to find\\n* No: The crash location was more difficult to find and there's a chance that the location I put may not be correct.\\n\\nNOTE 1: If you're VERY not confident in the crash location, do not put a location\\n\\nNOTE 2: While this colum appears before the location, fill this column out AFTER entering the location\\n            object\n",
      "Latitude                                                                                                                                                                                                                                                                                                                                                                                                                                                                                       float64\n",
      "Longitude                                                                                                                                                                                                                                                                                                                                                                                                                                                                                      float64\n",
      "Road Distance (kilometers)                                                                                                                                                                                                                                                                                                                                                                                                                                                                      object\n",
      "Comments                                                                                                                                                                                                                                                                                                                                                                                                                                                                                        object\n",
      "NaN                                                                                                                                                                                                                                                                                                                                                                                                                                                                                               bool\n",
      "nan.1                                                                                                                                                                                                                                                                                                                                                                                                                                                                                             bool\n",
      "nan.2                                                                                                                                                                                                                                                                                                                                                                                                                                                                                             bool\n",
      "nan.3                                                                                                                                                                                                                                                                                                                                                                                                                                                                                             bool\n",
      "nan.4                                                                                                                                                                                                                                                                                                                                                                                                                                                                                          float64\n",
      "nan.5                                                                                                                                                                                                                                                                                                                                                                                                                                                                                          float64\n",
      "nan.6                                                                                                                                                                                                                                                                                                                                                                                                                                                                                          float64\n",
      "all_check                                                                                                                                                                                                                                                                                                                                                                                                                                                                                      float64\n",
      "check_0_75                                                                                                                                                                                                                                                                                                                                                                                                                                                                                     float64\n",
      "check_0_50                                                                                                                                                                                                                                                                                                                                                                                                                                                                                     float64\n",
      "check_0_25                                                                                                                                                                                                                                                                                                                                                                                                                                                                                     float64\n",
      "check_0_10                                                                                                                                                                                                                                                                                                                                                                                                                                                                                     float64\n",
      "check_0_05                                                                                                                                                                                                                                                                                                                                                                                                                                                                                     float64\n",
      "dtype: object\n"
     ]
    }
   ],
   "source": [
    "if data is not None:\n",
    "    print(\"column Names: \")\n",
    "    print(data.columns)\n",
    "    print(\"\\nData Types:\")\n",
    "    print(data.dtypes)"
   ]
  },
  {
   "cell_type": "code",
   "execution_count": 12,
   "metadata": {},
   "outputs": [],
   "source": [
    "data[\"Latitude\"] = pd.to_numeric(data[\"Latitude\"], errors=\"coerce\")\n",
    "data[\"Longitude\"] = pd.to_numeric(data[\"Longitude\"], errors=\"coerce\")"
   ]
  },
  {
   "cell_type": "code",
   "execution_count": 13,
   "metadata": {},
   "outputs": [],
   "source": [
    "filtered_data = data[\n",
    "    data[\"Latitude\"].notna()  # Latitude is not NaN\n",
    "    & data[\"Longitude\"].notna()  # Longitude is not NaN\n",
    "    & data.drop(columns=[\"Latitude\", \"Longitude\"], errors=\"ignore\").isna().all(axis=1)  # All other columns are NaN\n",
    "]"
   ]
  },
  {
   "cell_type": "code",
   "execution_count": 14,
   "metadata": {},
   "outputs": [
    {
     "name": "stdout",
     "output_type": "stream",
     "text": [
      "Number of rows with only 'Latitude' and 'Longitude': 0\n"
     ]
    },
    {
     "data": {
      "application/vnd.microsoft.datawrangler.viewer.v0+json": {
       "columns": [
        {
         "name": "index",
         "rawType": "int64",
         "type": "integer"
        },
        {
         "name": "Date Entered\n(Enter the date the location was geocoded)",
         "rawType": "datetime64[ns]",
         "type": "datetime"
        },
        {
         "name": "Base/Sub-base",
         "rawType": "object",
         "type": "string"
        },
        {
         "name": "County",
         "rawType": "object",
         "type": "string"
        },
        {
         "name": "Road",
         "rawType": "object",
         "type": "string"
        },
        {
         "name": "Place",
         "rawType": "object",
         "type": "string"
        },
        {
         "name": "Crash Location\nCan a crash location be determined from the police data? \n* Yes\n* No",
         "rawType": "object",
         "type": "string"
        },
        {
         "name": "Location Type\nWhat does the location represent?\n* Point (~ within 300 meters)\n* Area (few km)\n",
         "rawType": "object",
         "type": "string"
        },
        {
         "name": "Confident? \nAre you confident that the coordinates or road IDs you choose correctly identify the crash location?\n* Yes: The crash location was easy to find\n* No: The crash location was more difficult to find and there's a chance that the location I put may not be correct.\n\nNOTE 1: If you're VERY not confident in the crash location, do not put a location\n\nNOTE 2: While this colum appears before the location, fill this column out AFTER entering the location\n",
         "rawType": "object",
         "type": "string"
        },
        {
         "name": "Latitude",
         "rawType": "float64",
         "type": "float"
        },
        {
         "name": "Longitude",
         "rawType": "float64",
         "type": "float"
        },
        {
         "name": "Road Distance (kilometers)",
         "rawType": "object",
         "type": "string"
        },
        {
         "name": "Comments",
         "rawType": "object",
         "type": "string"
        },
        {
         "name": "nan",
         "rawType": "bool",
         "type": "boolean"
        },
        {
         "name": "nan.1",
         "rawType": "bool",
         "type": "boolean"
        },
        {
         "name": "nan.2",
         "rawType": "bool",
         "type": "boolean"
        },
        {
         "name": "nan.3",
         "rawType": "bool",
         "type": "boolean"
        },
        {
         "name": "nan.4",
         "rawType": "float64",
         "type": "float"
        },
        {
         "name": "nan.5",
         "rawType": "float64",
         "type": "float"
        },
        {
         "name": "nan.6",
         "rawType": "float64",
         "type": "float"
        },
        {
         "name": "all_check",
         "rawType": "float64",
         "type": "float"
        },
        {
         "name": "check_0_75",
         "rawType": "float64",
         "type": "float"
        },
        {
         "name": "check_0_50",
         "rawType": "float64",
         "type": "float"
        },
        {
         "name": "check_0_25",
         "rawType": "float64",
         "type": "float"
        },
        {
         "name": "check_0_10",
         "rawType": "float64",
         "type": "float"
        },
        {
         "name": "check_0_05",
         "rawType": "float64",
         "type": "float"
        }
       ],
       "conversionMethod": "pd.DataFrame",
       "ref": "82412d2f-4e3f-40ff-bbbb-a38e9a2b4d5a",
       "rows": [],
       "shape": {
        "columns": 25,
        "rows": 0
       }
      },
      "text/html": [
       "<div>\n",
       "<style scoped>\n",
       "    .dataframe tbody tr th:only-of-type {\n",
       "        vertical-align: middle;\n",
       "    }\n",
       "\n",
       "    .dataframe tbody tr th {\n",
       "        vertical-align: top;\n",
       "    }\n",
       "\n",
       "    .dataframe thead th {\n",
       "        text-align: right;\n",
       "    }\n",
       "</style>\n",
       "<table border=\"1\" class=\"dataframe\">\n",
       "  <thead>\n",
       "    <tr style=\"text-align: right;\">\n",
       "      <th></th>\n",
       "      <th>Date Entered\\n(Enter the date the location was geocoded)</th>\n",
       "      <th>Base/Sub-base</th>\n",
       "      <th>County</th>\n",
       "      <th>Road</th>\n",
       "      <th>Place</th>\n",
       "      <th>Crash Location\\nCan a crash location be determined from the police data? \\n* Yes\\n* No</th>\n",
       "      <th>Location Type\\nWhat does the location represent?\\n* Point (~ within 300 meters)\\n* Area (few km)\\n</th>\n",
       "      <th>Confident? \\nAre you confident that the coordinates or road IDs you choose correctly identify the crash location?\\n* Yes: The crash location was easy to find\\n* No: The crash location was more difficult to find and there's a chance that the location I put may not be correct.\\n\\nNOTE 1: If you're VERY not confident in the crash location, do not put a location\\n\\nNOTE 2: While this colum appears before the location, fill this column out AFTER entering the location\\n</th>\n",
       "      <th>Latitude</th>\n",
       "      <th>Longitude</th>\n",
       "      <th>...</th>\n",
       "      <th>nan.3</th>\n",
       "      <th>nan.4</th>\n",
       "      <th>nan.5</th>\n",
       "      <th>nan.6</th>\n",
       "      <th>all_check</th>\n",
       "      <th>check_0_75</th>\n",
       "      <th>check_0_50</th>\n",
       "      <th>check_0_25</th>\n",
       "      <th>check_0_10</th>\n",
       "      <th>check_0_05</th>\n",
       "    </tr>\n",
       "  </thead>\n",
       "  <tbody>\n",
       "  </tbody>\n",
       "</table>\n",
       "<p>0 rows × 25 columns</p>\n",
       "</div>"
      ],
      "text/plain": [
       "Empty DataFrame\n",
       "Columns: [Date Entered\n",
       "(Enter the date the location was geocoded), Base/Sub-base, County, Road, Place, Crash Location\n",
       "Can a crash location be determined from the police data? \n",
       "* Yes\n",
       "* No, Location Type\n",
       "What does the location represent?\n",
       "* Point (~ within 300 meters)\n",
       "* Area (few km)\n",
       ", Confident? \n",
       "Are you confident that the coordinates or road IDs you choose correctly identify the crash location?\n",
       "* Yes: The crash location was easy to find\n",
       "* No: The crash location was more difficult to find and there's a chance that the location I put may not be correct.\n",
       "\n",
       "NOTE 1: If you're VERY not confident in the crash location, do not put a location\n",
       "\n",
       "NOTE 2: While this colum appears before the location, fill this column out AFTER entering the location\n",
       ", Latitude, Longitude, Road Distance (kilometers), Comments, nan, nan.1, nan.2, nan.3, nan.4, nan.5, nan.6, all_check, check_0_75, check_0_50, check_0_25, check_0_10, check_0_05]\n",
       "Index: []\n",
       "\n",
       "[0 rows x 25 columns]"
      ]
     },
     "metadata": {},
     "output_type": "display_data"
    }
   ],
   "source": [
    "print(f\"Number of rows with only 'Latitude' and 'Longitude': {filtered_data.shape[0]}\")\n",
    "display(filtered_data)"
   ]
  },
  {
   "cell_type": "code",
   "execution_count": null,
   "metadata": {},
   "outputs": [],
   "source": []
  }
 ],
 "metadata": {
  "kernelspec": {
   "display_name": ".venv",
   "language": "python",
   "name": "python3"
  },
  "language_info": {
   "codemirror_mode": {
    "name": "ipython",
    "version": 3
   },
   "file_extension": ".py",
   "mimetype": "text/x-python",
   "name": "python",
   "nbconvert_exporter": "python",
   "pygments_lexer": "ipython3",
   "version": "3.12.6"
  }
 },
 "nbformat": 4,
 "nbformat_minor": 2
}
